{
  "nbformat": 4,
  "nbformat_minor": 0,
  "metadata": {
    "colab": {
      "name": "5_9_560_PJ_Part2.ipynb",
      "provenance": [],
      "collapsed_sections": []
    },
    "kernelspec": {
      "display_name": "Python 3",
      "language": "python",
      "name": "python3"
    },
    "language_info": {
      "codemirror_mode": {
        "name": "ipython",
        "version": 3
      },
      "file_extension": ".py",
      "mimetype": "text/x-python",
      "name": "python",
      "nbconvert_exporter": "python",
      "pygments_lexer": "ipython3",
      "version": "3.7.3"
    },
    "varInspector": {
      "cols": {
        "lenName": 16,
        "lenType": 16,
        "lenVar": 40
      },
      "kernels_config": {
        "python": {
          "delete_cmd_postfix": "",
          "delete_cmd_prefix": "del ",
          "library": "var_list.py",
          "varRefreshCmd": "print(var_dic_list())"
        },
        "r": {
          "delete_cmd_postfix": ") ",
          "delete_cmd_prefix": "rm(",
          "library": "var_list.r",
          "varRefreshCmd": "cat(var_dic_list()) "
        }
      },
      "types_to_exclude": [
        "module",
        "function",
        "builtin_function_or_method",
        "instance",
        "_Feature"
      ],
      "window_display": false
    }
  },
  "cells": [
    {
      "cell_type": "markdown",
      "metadata": {
        "id": "NmGJnlSU-wlG"
      },
      "source": [
        "# Import packages and files"
      ]
    },
    {
      "cell_type": "code",
      "metadata": {
        "colab": {
          "base_uri": "https://localhost:8080/"
        },
        "id": "Ap8OFHGw3EOq",
        "outputId": "c8e15a75-7bbf-4448-8bed-35c1f870586d"
      },
      "source": [
        "import pandas as pd\n",
        "import numpy as np\n",
        "import re\n",
        "from sklearn.feature_extraction.text import CountVectorizer,TfidfVectorizer\n",
        "from sklearn.model_selection import train_test_split\n",
        "from sklearn.pipeline import Pipeline\n",
        "from sklearn.feature_selection import SelectKBest, chi2\n",
        "from sklearn.svm import LinearSVC\n",
        "from scipy.spatial.distance import pdist, squareform, cosine\n",
        "from collections import OrderedDict\n",
        "\n",
        "\n",
        "import nltk\n",
        "nltk.download('punkt') # A popular NLTK sentence tokenizer\n",
        "nltk.download('stopwords') # library of common English stopwords\n",
        "nltk.download('averaged_perceptron_tagger')\n",
        "nltk.download('wordnet')\n",
        "\n",
        "from nltk.corpus import stopwords,wordnet\n",
        "from nltk.stem import WordNetLemmatizer\n",
        "nltk_stopwords=set(stopwords.words('english'))\n",
        "lemmatizer = WordNetLemmatizer()\n",
        "\n",
        "# display all columns\n",
        "pd.set_option('display.max_columns',None)\n",
        "pd.set_option('display.max_colwidth', None)"
      ],
      "execution_count": 1,
      "outputs": [
        {
          "output_type": "stream",
          "text": [
            "[nltk_data] Downloading package punkt to /root/nltk_data...\n",
            "[nltk_data]   Unzipping tokenizers/punkt.zip.\n",
            "[nltk_data] Downloading package stopwords to /root/nltk_data...\n",
            "[nltk_data]   Unzipping corpora/stopwords.zip.\n",
            "[nltk_data] Downloading package averaged_perceptron_tagger to\n",
            "[nltk_data]     /root/nltk_data...\n",
            "[nltk_data]   Unzipping taggers/averaged_perceptron_tagger.zip.\n",
            "[nltk_data] Downloading package wordnet to /root/nltk_data...\n",
            "[nltk_data]   Unzipping corpora/wordnet.zip.\n"
          ],
          "name": "stdout"
        }
      ]
    },
    {
      "cell_type": "code",
      "metadata": {
        "colab": {
          "base_uri": "https://localhost:8080/"
        },
        "id": "_8JfosVdPDpP",
        "outputId": "f472a631-ca7b-4ef7-d1e1-4f94cff4a914"
      },
      "source": [
        "!python -m spacy download en_core_web_md\n",
        "import en_core_web_md\n",
        "import spacy\n",
        "nlp = en_core_web_md.load()"
      ],
      "execution_count": 2,
      "outputs": [
        {
          "output_type": "stream",
          "text": [
            "Collecting en_core_web_md==2.2.5\n",
            "\u001b[?25l  Downloading https://github.com/explosion/spacy-models/releases/download/en_core_web_md-2.2.5/en_core_web_md-2.2.5.tar.gz (96.4MB)\n",
            "\u001b[K     |████████████████████████████████| 96.4MB 1.2MB/s \n",
            "\u001b[?25hRequirement already satisfied: spacy>=2.2.2 in /usr/local/lib/python3.7/dist-packages (from en_core_web_md==2.2.5) (2.2.4)\n",
            "Requirement already satisfied: preshed<3.1.0,>=3.0.2 in /usr/local/lib/python3.7/dist-packages (from spacy>=2.2.2->en_core_web_md==2.2.5) (3.0.5)\n",
            "Requirement already satisfied: murmurhash<1.1.0,>=0.28.0 in /usr/local/lib/python3.7/dist-packages (from spacy>=2.2.2->en_core_web_md==2.2.5) (1.0.5)\n",
            "Requirement already satisfied: srsly<1.1.0,>=1.0.2 in /usr/local/lib/python3.7/dist-packages (from spacy>=2.2.2->en_core_web_md==2.2.5) (1.0.5)\n",
            "Requirement already satisfied: setuptools in /usr/local/lib/python3.7/dist-packages (from spacy>=2.2.2->en_core_web_md==2.2.5) (56.1.0)\n",
            "Requirement already satisfied: tqdm<5.0.0,>=4.38.0 in /usr/local/lib/python3.7/dist-packages (from spacy>=2.2.2->en_core_web_md==2.2.5) (4.41.1)\n",
            "Requirement already satisfied: numpy>=1.15.0 in /usr/local/lib/python3.7/dist-packages (from spacy>=2.2.2->en_core_web_md==2.2.5) (1.19.5)\n",
            "Requirement already satisfied: thinc==7.4.0 in /usr/local/lib/python3.7/dist-packages (from spacy>=2.2.2->en_core_web_md==2.2.5) (7.4.0)\n",
            "Requirement already satisfied: requests<3.0.0,>=2.13.0 in /usr/local/lib/python3.7/dist-packages (from spacy>=2.2.2->en_core_web_md==2.2.5) (2.23.0)\n",
            "Requirement already satisfied: plac<1.2.0,>=0.9.6 in /usr/local/lib/python3.7/dist-packages (from spacy>=2.2.2->en_core_web_md==2.2.5) (1.1.3)\n",
            "Requirement already satisfied: blis<0.5.0,>=0.4.0 in /usr/local/lib/python3.7/dist-packages (from spacy>=2.2.2->en_core_web_md==2.2.5) (0.4.1)\n",
            "Requirement already satisfied: catalogue<1.1.0,>=0.0.7 in /usr/local/lib/python3.7/dist-packages (from spacy>=2.2.2->en_core_web_md==2.2.5) (1.0.0)\n",
            "Requirement already satisfied: wasabi<1.1.0,>=0.4.0 in /usr/local/lib/python3.7/dist-packages (from spacy>=2.2.2->en_core_web_md==2.2.5) (0.8.2)\n",
            "Requirement already satisfied: cymem<2.1.0,>=2.0.2 in /usr/local/lib/python3.7/dist-packages (from spacy>=2.2.2->en_core_web_md==2.2.5) (2.0.5)\n",
            "Requirement already satisfied: idna<3,>=2.5 in /usr/local/lib/python3.7/dist-packages (from requests<3.0.0,>=2.13.0->spacy>=2.2.2->en_core_web_md==2.2.5) (2.10)\n",
            "Requirement already satisfied: urllib3!=1.25.0,!=1.25.1,<1.26,>=1.21.1 in /usr/local/lib/python3.7/dist-packages (from requests<3.0.0,>=2.13.0->spacy>=2.2.2->en_core_web_md==2.2.5) (1.24.3)\n",
            "Requirement already satisfied: chardet<4,>=3.0.2 in /usr/local/lib/python3.7/dist-packages (from requests<3.0.0,>=2.13.0->spacy>=2.2.2->en_core_web_md==2.2.5) (3.0.4)\n",
            "Requirement already satisfied: certifi>=2017.4.17 in /usr/local/lib/python3.7/dist-packages (from requests<3.0.0,>=2.13.0->spacy>=2.2.2->en_core_web_md==2.2.5) (2020.12.5)\n",
            "Requirement already satisfied: importlib-metadata>=0.20; python_version < \"3.8\" in /usr/local/lib/python3.7/dist-packages (from catalogue<1.1.0,>=0.0.7->spacy>=2.2.2->en_core_web_md==2.2.5) (3.10.1)\n",
            "Requirement already satisfied: zipp>=0.5 in /usr/local/lib/python3.7/dist-packages (from importlib-metadata>=0.20; python_version < \"3.8\"->catalogue<1.1.0,>=0.0.7->spacy>=2.2.2->en_core_web_md==2.2.5) (3.4.1)\n",
            "Requirement already satisfied: typing-extensions>=3.6.4; python_version < \"3.8\" in /usr/local/lib/python3.7/dist-packages (from importlib-metadata>=0.20; python_version < \"3.8\"->catalogue<1.1.0,>=0.0.7->spacy>=2.2.2->en_core_web_md==2.2.5) (3.7.4.3)\n",
            "Building wheels for collected packages: en-core-web-md\n",
            "  Building wheel for en-core-web-md (setup.py) ... \u001b[?25l\u001b[?25hdone\n",
            "  Created wheel for en-core-web-md: filename=en_core_web_md-2.2.5-cp37-none-any.whl size=98051305 sha256=494f3c070281dae8ec2b7dc04415d3a9300e1175b08a914d0f92aa317f3f6823\n",
            "  Stored in directory: /tmp/pip-ephem-wheel-cache-cotih3xn/wheels/df/94/ad/f5cf59224cea6b5686ac4fd1ad19c8a07bc026e13c36502d81\n",
            "Successfully built en-core-web-md\n",
            "Installing collected packages: en-core-web-md\n",
            "Successfully installed en-core-web-md-2.2.5\n",
            "\u001b[38;5;2m✔ Download and installation successful\u001b[0m\n",
            "You can now load the model via spacy.load('en_core_web_md')\n"
          ],
          "name": "stdout"
        }
      ]
    },
    {
      "cell_type": "code",
      "metadata": {
        "colab": {
          "resources": {
            "http://localhost:8080/nbextensions/google.colab/files.js": {
              "data": "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",
              "ok": true,
              "headers": [
                [
                  "content-type",
                  "application/javascript"
                ]
              ],
              "status": 200,
              "status_text": ""
            }
          },
          "base_uri": "https://localhost:8080/",
          "height": 108
        },
        "id": "qhqaQfxxSiHx",
        "outputId": "dcba7592-4ce7-46c1-84d3-7eee6e686e9f"
      },
      "source": [
        "from google.colab import files\n",
        "\n",
        "uploaded = files.upload()"
      ],
      "execution_count": 4,
      "outputs": [
        {
          "output_type": "display_data",
          "data": {
            "text/html": [
              "\n",
              "     <input type=\"file\" id=\"files-e46d2219-67cb-479a-9760-4017bae3987a\" name=\"files[]\" multiple disabled\n",
              "        style=\"border:none\" />\n",
              "     <output id=\"result-e46d2219-67cb-479a-9760-4017bae3987a\">\n",
              "      Upload widget is only available when the cell has been executed in the\n",
              "      current browser session. Please rerun this cell to enable.\n",
              "      </output>\n",
              "      <script src=\"/nbextensions/google.colab/files.js\"></script> "
            ],
            "text/plain": [
              "<IPython.core.display.HTML object>"
            ]
          },
          "metadata": {
            "tags": []
          }
        },
        {
          "output_type": "stream",
          "text": [
            "Saving outfit_combinations USC.csv to outfit_combinations USC (1).csv\n",
            "Saving product.xlsx to product.xlsx\n"
          ],
          "name": "stdout"
        }
      ]
    },
    {
      "cell_type": "code",
      "metadata": {
        "id": "rsYVtjKKTS60"
      },
      "source": [
        "# import excel file 2\n",
        "df2 = pd.read_excel('product.xlsx')\n",
        "# import excel file 3\n",
        "df3 = pd.read_csv('outfit_combinations USC.csv')"
      ],
      "execution_count": 5,
      "outputs": []
    },
    {
      "cell_type": "markdown",
      "metadata": {
        "id": "Zg9ckTFZUugz"
      },
      "source": [
        "# Drop Columns\n",
        "Columns 'brand_canonical_url', 'created_at' are not useful in our analysis. Using Cosine Similarity we also found that 'brand_name' and 'name', 'brand_description' and 'description' are extremely similar thus we will drop one of the two"
      ]
    },
    {
      "cell_type": "code",
      "metadata": {
        "id": "bxSHzMKiTS9m"
      },
      "source": [
        "df2 = df2.drop(['brand_canonical_url','created_at','brand_description','brand_name'], axis=1)"
      ],
      "execution_count": 6,
      "outputs": []
    },
    {
      "cell_type": "markdown",
      "metadata": {
        "id": "aBdPpsKOU1JE"
      },
      "source": [
        "# Predict outfit_item_type for all products\n",
        "From the outfit combinations provided in file 3 we can see that a type (column 'outfit_item_type') was attributed each product. This type is not available in the product file. We will use the description of products to predict the type of the product."
      ]
    },
    {
      "cell_type": "code",
      "metadata": {
        "colab": {
          "base_uri": "https://localhost:8080/",
          "height": 847
        },
        "id": "fqDqz2-oTTAe",
        "outputId": "663fec11-6afe-45e8-ac09-24056ae00452"
      },
      "source": [
        "#concatenate brand, brand_category, name, details, description\n",
        "cols=['brand', 'brand_category', 'name', 'details', 'description']\n",
        "df2['product_description_combined']=df2[cols].apply(lambda row: ' '.join(row.values.astype(str)), axis=1)\n",
        "df2.head()"
      ],
      "execution_count": 7,
      "outputs": [
        {
          "output_type": "execute_result",
          "data": {
            "text/html": [
              "<div>\n",
              "<style scoped>\n",
              "    .dataframe tbody tr th:only-of-type {\n",
              "        vertical-align: middle;\n",
              "    }\n",
              "\n",
              "    .dataframe tbody tr th {\n",
              "        vertical-align: top;\n",
              "    }\n",
              "\n",
              "    .dataframe thead th {\n",
              "        text-align: right;\n",
              "    }\n",
              "</style>\n",
              "<table border=\"1\" class=\"dataframe\">\n",
              "  <thead>\n",
              "    <tr style=\"text-align: right;\">\n",
              "      <th></th>\n",
              "      <th>product_id</th>\n",
              "      <th>brand</th>\n",
              "      <th>brand_category</th>\n",
              "      <th>name</th>\n",
              "      <th>details</th>\n",
              "      <th>description</th>\n",
              "      <th>product_active</th>\n",
              "      <th>product_description_combined</th>\n",
              "    </tr>\n",
              "  </thead>\n",
              "  <tbody>\n",
              "    <tr>\n",
              "      <th>0</th>\n",
              "      <td>01EX0PN4J9WRNZH5F93YEX6QAF</td>\n",
              "      <td>Two</td>\n",
              "      <td>Unknown</td>\n",
              "      <td>Khadi Stripe Shirt-our signature shirt</td>\n",
              "      <td>NaN</td>\n",
              "      <td>Our signature khadi shirt\\navailable in black and white\\nEasy to wear from beach to city. We promise this top will be your go-to warm\\nweather item. Perfect under a blazer. Hand loomed woven stripe in khadi cotton.\\n Slightly sheer and gets softer with every wash. Ships First week of April\\nCOLOR: WHITE OR BLACK\\n—  Length 27\"  and  Width  26.5\" —  One size fits most —  Grid khadi cotton</td>\n",
              "      <td>True</td>\n",
              "      <td>Two Unknown Khadi Stripe Shirt-our signature shirt nan Our signature khadi shirt\\navailable in black and white\\nEasy to wear from beach to city. We promise this top will be your go-to warm\\nweather item. Perfect under a blazer. Hand loomed woven stripe in khadi cotton.\\n Slightly sheer and gets softer with every wash. Ships First week of April\\nCOLOR: WHITE OR BLACK\\n—  Length 27\"  and  Width  26.5\" —  One size fits most —  Grid khadi cotton</td>\n",
              "    </tr>\n",
              "    <tr>\n",
              "      <th>1</th>\n",
              "      <td>01F0C4SKZV6YXS3265JMC39NXW</td>\n",
              "      <td>Collina Strada</td>\n",
              "      <td>Unknown</td>\n",
              "      <td>RUFFLE MARKET DRESS LOOPY PINK SISTINE TOMATO</td>\n",
              "      <td>NaN</td>\n",
              "      <td>Mid-length dress with ruffles and adjustable straps. Bias cut. Side seam\\ninvisible zipper\\nMade in New York\\nModel wears size small\\n100% Rose sylk\\nRose sylk is an organic cellulose fiber made from the natural waste of rose\\nbushes and stems.</td>\n",
              "      <td>True</td>\n",
              "      <td>Collina Strada Unknown RUFFLE MARKET DRESS LOOPY PINK SISTINE TOMATO nan Mid-length dress with ruffles and adjustable straps. Bias cut. Side seam\\ninvisible zipper\\nMade in New York\\nModel wears size small\\n100% Rose sylk\\nRose sylk is an organic cellulose fiber made from the natural waste of rose\\nbushes and stems.</td>\n",
              "    </tr>\n",
              "    <tr>\n",
              "      <th>2</th>\n",
              "      <td>01EY4Y1BW8VZW51BWG5VZY82XW</td>\n",
              "      <td>Cariuma</td>\n",
              "      <td>Unknown</td>\n",
              "      <td>IBI Slip On Raw Red Knit Sneaker Women</td>\n",
              "      <td>NaN</td>\n",
              "      <td>IBI Slip On Raw Red Knit Sneaker Women</td>\n",
              "      <td>False</td>\n",
              "      <td>Cariuma Unknown IBI Slip On Raw Red Knit Sneaker Women nan IBI Slip On Raw Red Knit Sneaker Women</td>\n",
              "    </tr>\n",
              "    <tr>\n",
              "      <th>3</th>\n",
              "      <td>01EY50E27A0P5V6KCW01XPDB43</td>\n",
              "      <td>Cariuma</td>\n",
              "      <td>Unknown</td>\n",
              "      <td>IBI Slip On Black Knit Sneaker Women</td>\n",
              "      <td>NaN</td>\n",
              "      <td>IBI Slip On Black Knit Sneaker Women</td>\n",
              "      <td>False</td>\n",
              "      <td>Cariuma Unknown IBI Slip On Black Knit Sneaker Women nan IBI Slip On Black Knit Sneaker Women</td>\n",
              "    </tr>\n",
              "    <tr>\n",
              "      <th>4</th>\n",
              "      <td>01EY6DWHC2W5HPNEGXKEJ4A1CX</td>\n",
              "      <td>Cariuma</td>\n",
              "      <td>Unknown</td>\n",
              "      <td>CATIBA PRO Skate Black Suede and Canvas Contrast Thread Ivory Logo Sneaker Women Left</td>\n",
              "      <td>NaN</td>\n",
              "      <td>NaN</td>\n",
              "      <td>False</td>\n",
              "      <td>Cariuma Unknown CATIBA PRO Skate Black Suede and Canvas Contrast Thread Ivory Logo Sneaker Women Left nan nan</td>\n",
              "    </tr>\n",
              "  </tbody>\n",
              "</table>\n",
              "</div>"
            ],
            "text/plain": [
              "                   product_id           brand brand_category  \\\n",
              "0  01EX0PN4J9WRNZH5F93YEX6QAF             Two        Unknown   \n",
              "1  01F0C4SKZV6YXS3265JMC39NXW  Collina Strada        Unknown   \n",
              "2  01EY4Y1BW8VZW51BWG5VZY82XW         Cariuma        Unknown   \n",
              "3  01EY50E27A0P5V6KCW01XPDB43         Cariuma        Unknown   \n",
              "4  01EY6DWHC2W5HPNEGXKEJ4A1CX         Cariuma        Unknown   \n",
              "\n",
              "                                                                                    name  \\\n",
              "0                                                 Khadi Stripe Shirt-our signature shirt   \n",
              "1                                          RUFFLE MARKET DRESS LOOPY PINK SISTINE TOMATO   \n",
              "2                                                 IBI Slip On Raw Red Knit Sneaker Women   \n",
              "3                                                   IBI Slip On Black Knit Sneaker Women   \n",
              "4  CATIBA PRO Skate Black Suede and Canvas Contrast Thread Ivory Logo Sneaker Women Left   \n",
              "\n",
              "  details  \\\n",
              "0     NaN   \n",
              "1     NaN   \n",
              "2     NaN   \n",
              "3     NaN   \n",
              "4     NaN   \n",
              "\n",
              "                                                                                                                                                                                                                                                                                                                                                                                              description  \\\n",
              "0  Our signature khadi shirt\\navailable in black and white\\nEasy to wear from beach to city. We promise this top will be your go-to warm\\nweather item. Perfect under a blazer. Hand loomed woven stripe in khadi cotton.\\n Slightly sheer and gets softer with every wash. Ships First week of April\\nCOLOR: WHITE OR BLACK\\n—  Length 27\"  and  Width  26.5\" —  One size fits most —  Grid khadi cotton   \n",
              "1                                                                                                                                                    Mid-length dress with ruffles and adjustable straps. Bias cut. Side seam\\ninvisible zipper\\nMade in New York\\nModel wears size small\\n100% Rose sylk\\nRose sylk is an organic cellulose fiber made from the natural waste of rose\\nbushes and stems.   \n",
              "2                                                                                                                                                                                                                                                                                                                                                                  IBI Slip On Raw Red Knit Sneaker Women   \n",
              "3                                                                                                                                                                                                                                                                                                                                                                    IBI Slip On Black Knit Sneaker Women   \n",
              "4                                                                                                                                                                                                                                                                                                                                                                                                     NaN   \n",
              "\n",
              "   product_active  \\\n",
              "0            True   \n",
              "1            True   \n",
              "2           False   \n",
              "3           False   \n",
              "4           False   \n",
              "\n",
              "                                                                                                                                                                                                                                                                                                                                                                                                                                    product_description_combined  \n",
              "0  Two Unknown Khadi Stripe Shirt-our signature shirt nan Our signature khadi shirt\\navailable in black and white\\nEasy to wear from beach to city. We promise this top will be your go-to warm\\nweather item. Perfect under a blazer. Hand loomed woven stripe in khadi cotton.\\n Slightly sheer and gets softer with every wash. Ships First week of April\\nCOLOR: WHITE OR BLACK\\n—  Length 27\"  and  Width  26.5\" —  One size fits most —  Grid khadi cotton  \n",
              "1                                                                                                                                  Collina Strada Unknown RUFFLE MARKET DRESS LOOPY PINK SISTINE TOMATO nan Mid-length dress with ruffles and adjustable straps. Bias cut. Side seam\\ninvisible zipper\\nMade in New York\\nModel wears size small\\n100% Rose sylk\\nRose sylk is an organic cellulose fiber made from the natural waste of rose\\nbushes and stems.  \n",
              "2                                                                                                                                                                                                                                                                                                                                                              Cariuma Unknown IBI Slip On Raw Red Knit Sneaker Women nan IBI Slip On Raw Red Knit Sneaker Women  \n",
              "3                                                                                                                                                                                                                                                                                                                                                                  Cariuma Unknown IBI Slip On Black Knit Sneaker Women nan IBI Slip On Black Knit Sneaker Women  \n",
              "4                                                                                                                                                                                                                                                                                                                                                  Cariuma Unknown CATIBA PRO Skate Black Suede and Canvas Contrast Thread Ivory Logo Sneaker Women Left nan nan  "
            ]
          },
          "metadata": {
            "tags": []
          },
          "execution_count": 7
        }
      ]
    },
    {
      "cell_type": "code",
      "metadata": {
        "id": "A2QeC_c5TTCy"
      },
      "source": [
        "# extract out all product id and outfit_item_type in file 3\n",
        "prod_type=df3[['product_id','outfit_item_type']]"
      ],
      "execution_count": 8,
      "outputs": []
    },
    {
      "cell_type": "code",
      "metadata": {
        "colab": {
          "base_uri": "https://localhost:8080/"
        },
        "id": "AGjRn5TKT7B0",
        "outputId": "67a8fab1-aaf6-4b45-a482-da204cb8c05b"
      },
      "source": [
        "# get rid of duplicated products \n",
        "print('before: ',prod_type.shape)\n",
        "prod_type=prod_type.drop_duplicates()\n",
        "print('after: ', prod_type.shape)"
      ],
      "execution_count": 9,
      "outputs": [
        {
          "output_type": "stream",
          "text": [
            "before:  (5291, 2)\n",
            "after:  (844, 2)\n"
          ],
          "name": "stdout"
        }
      ]
    },
    {
      "cell_type": "code",
      "metadata": {
        "id": "kQUUf9npT7Er"
      },
      "source": [
        "# add product_description_combined column\n",
        "prod_type_des=pd.merge(prod_type,df2[['product_id','product_description_combined']],on ='product_id', how = 'left')\n",
        "prod_type_des=prod_type_des.dropna(subset=['product_description_combined'])"
      ],
      "execution_count": 10,
      "outputs": []
    },
    {
      "cell_type": "code",
      "metadata": {
        "colab": {
          "base_uri": "https://localhost:8080/"
        },
        "id": "I560muouDvfz",
        "outputId": "35da1b0f-f304-4859-de59-50a2d5f09d28"
      },
      "source": [
        "prod_type_des.shape"
      ],
      "execution_count": 11,
      "outputs": [
        {
          "output_type": "execute_result",
          "data": {
            "text/plain": [
              "(809, 3)"
            ]
          },
          "metadata": {
            "tags": []
          },
          "execution_count": 11
        }
      ]
    },
    {
      "cell_type": "code",
      "metadata": {
        "id": "nlrEnTSwdjMS"
      },
      "source": [
        "nlp = en_core_web_md.load(disable=['ner', 'parser', \"tok2vec\"])"
      ],
      "execution_count": 12,
      "outputs": []
    },
    {
      "cell_type": "code",
      "metadata": {
        "id": "D7wE5ganIu6B"
      },
      "source": [
        "def clean_text(df, column):\n",
        "  '''\n",
        "  clearn strings in dataframe\n",
        "  '''\n",
        "  # lowercase \n",
        "  df[column]=df[column].str.lower()\n",
        "  df[column]=df[column].str.replace('\\n', ' ') \n",
        "  # replace hyphen with space\n",
        "  df[column]=df[column].str.replace(r\"([a-zA-Z])\\-([a-zA-Z])\", r\"\\1 \\2\")\n",
        "  # get rid of all non-words\n",
        "  df[column]=df[column].str.replace(r'[^A-Za-z\\s]+', '')\n",
        "  # get rid of 'nan' which were recognized as text when we concatenated columns previously\n",
        "  df[column]=df[column].str.replace(r'\\bnan\\b', '') \n",
        "  # lemmatization\n",
        "  df[column] = df[column].apply(lambda x: \" \".join([y.lemma_ for y in  nlp(x)]))\n",
        "  df[column]=df[column].str.replace(r'-PRON-', '')  \n",
        "  return df"
      ],
      "execution_count": 13,
      "outputs": []
    },
    {
      "cell_type": "code",
      "metadata": {
        "id": "ZQK5fCNmJ8IK"
      },
      "source": [
        "# apply function clean_text to dataframe prod_type_des\n",
        "prod_type_des=clean_text(prod_type_des,'product_description_combined')"
      ],
      "execution_count": 14,
      "outputs": []
    },
    {
      "cell_type": "code",
      "metadata": {
        "id": "5ZIoYBwaKOXZ"
      },
      "source": [
        "# since accessory are numbered only when there are multiple accesories recommended in an outfit\n",
        "# we will get rid of the number at this stage\n",
        "prod_type_des['outfit_item_type']=prod_type_des['outfit_item_type'].str.replace(r'accessory\\d',r'accessory')"
      ],
      "execution_count": 15,
      "outputs": []
    },
    {
      "cell_type": "code",
      "metadata": {
        "colab": {
          "base_uri": "https://localhost:8080/"
        },
        "id": "LQu6TtRVqK4R",
        "outputId": "bd2b90b1-5fcb-4825-8e3a-c5b2c742241f"
      },
      "source": [
        "# see if there's class imbalance issue\n",
        "prod_type_des['outfit_item_type'].value_counts(sort=True)"
      ],
      "execution_count": 16,
      "outputs": [
        {
          "output_type": "execute_result",
          "data": {
            "text/plain": [
              "accessory    189\n",
              "shoe         185\n",
              "top          180\n",
              "bottom       156\n",
              "onepiece      99\n",
              "Name: outfit_item_type, dtype: int64"
            ]
          },
          "metadata": {
            "tags": []
          },
          "execution_count": 16
        }
      ]
    },
    {
      "cell_type": "code",
      "metadata": {
        "id": "YgP49nxAqwaI"
      },
      "source": [
        "def sample_label(df,class_column,label,number_of_samples):\n",
        "  '''\n",
        "  This function will sample a number of rows with the same label\n",
        "  '''\n",
        "  df_label=df[df[class_column]==label]\n",
        "  df_label=df_label.sample(n=number_of_samples)\n",
        "  return df_label"
      ],
      "execution_count": 17,
      "outputs": []
    },
    {
      "cell_type": "code",
      "metadata": {
        "id": "fU_Ljb4CsAAT"
      },
      "source": [
        "# sample 99 records from each label to deal with class imbalance\n",
        "df_accessory=sample_label(prod_type_des,'outfit_item_type','accessory',99)\n",
        "df_shoe=sample_label(prod_type_des,'outfit_item_type','shoe',99)\n",
        "df_top=sample_label(prod_type_des,'outfit_item_type','top',99)\n",
        "df_bottom=sample_label(prod_type_des,'outfit_item_type','bottom',99)\n",
        "df_onepiece=sample_label(prod_type_des,'outfit_item_type','onepiece',99)\n",
        "training_df=pd.concat([df_accessory,df_shoe,df_top,df_bottom,df_onepiece])"
      ],
      "execution_count": 18,
      "outputs": []
    },
    {
      "cell_type": "code",
      "metadata": {
        "id": "pfO0HgeIUPv5"
      },
      "source": [
        "# train prediction model\n",
        "# https://github.com/coding-maniacs/text_classification/blob/master/src/main.py\n",
        "\n",
        "pipeline = Pipeline([('vect', TfidfVectorizer(ngram_range=(1, 2), stop_words=\"english\", sublinear_tf=True)),\n",
        "                     ('chi',  SelectKBest(chi2, k=10000)),\n",
        "                     ('clf', LinearSVC(C=1.0, penalty='l1', max_iter=3000, dual=False))])\n",
        "model = pipeline.fit(training_df['product_description_combined'], training_df['outfit_item_type'])"
      ],
      "execution_count": 19,
      "outputs": []
    },
    {
      "cell_type": "code",
      "metadata": {
        "colab": {
          "base_uri": "https://localhost:8080/"
        },
        "id": "j3pXulCVUPyj",
        "outputId": "b87141aa-c130-4dac-bf6c-510c0522247e"
      },
      "source": [
        "# evaluate model using cross validation\n",
        "from sklearn.model_selection import cross_val_score, StratifiedKFold\n",
        "kfolds = StratifiedKFold(n_splits = 10, shuffle = True)\n",
        "model_cv = cross_val_score(model, training_df['product_description_combined'], training_df['outfit_item_type'], cv=kfolds, scoring='accuracy')\n",
        "print(\"Mean classification error of model:\", 1-model_cv.mean())"
      ],
      "execution_count": 20,
      "outputs": [
        {
          "output_type": "stream",
          "text": [
            "Mean classification error of model: 0.1091428571428571\n"
          ],
          "name": "stdout"
        }
      ]
    },
    {
      "cell_type": "code",
      "metadata": {
        "colab": {
          "base_uri": "https://localhost:8080/"
        },
        "id": "EQ0Keb1EUP0_",
        "outputId": "2de94e14-1da5-4b3a-c660-0f6cc8059fbf"
      },
      "source": [
        "# now we will use the trained model to predict the outfit_item_type for all products\n",
        "\n",
        "# first we will get rid of products that are not active\n",
        "false_idx=df2[df2.product_active==False].index\n",
        "print('before drop: ',df2.shape)\n",
        "df2.drop(false_idx, inplace=True)\n",
        "print('after drop: ',df2.shape)"
      ],
      "execution_count": 21,
      "outputs": [
        {
          "output_type": "stream",
          "text": [
            "before drop:  (61355, 8)\n",
            "after drop:  (8481, 8)\n"
          ],
          "name": "stdout"
        }
      ]
    },
    {
      "cell_type": "code",
      "metadata": {
        "colab": {
          "base_uri": "https://localhost:8080/",
          "height": 898
        },
        "id": "ZL4DjeoSaOYL",
        "outputId": "4d4f172e-dfdd-43d2-92b1-51ad28ab48c6"
      },
      "source": [
        "# then apply function clean_text to df2\n",
        "# caution: this step can be slow\n",
        "df2=clean_text(df2,'product_description_combined')\n",
        "# use the trained model to predict the outfit_item_type for all products\n",
        "df2['outfit_item_type']=model.predict(df2['product_description_combined'].values)\n",
        "# take a look at df2['product_description_combined'] to get the rough idea of how accurate is the categorization\n",
        "df2.head()"
      ],
      "execution_count": 22,
      "outputs": [
        {
          "output_type": "execute_result",
          "data": {
            "text/html": [
              "<div>\n",
              "<style scoped>\n",
              "    .dataframe tbody tr th:only-of-type {\n",
              "        vertical-align: middle;\n",
              "    }\n",
              "\n",
              "    .dataframe tbody tr th {\n",
              "        vertical-align: top;\n",
              "    }\n",
              "\n",
              "    .dataframe thead th {\n",
              "        text-align: right;\n",
              "    }\n",
              "</style>\n",
              "<table border=\"1\" class=\"dataframe\">\n",
              "  <thead>\n",
              "    <tr style=\"text-align: right;\">\n",
              "      <th></th>\n",
              "      <th>product_id</th>\n",
              "      <th>brand</th>\n",
              "      <th>brand_category</th>\n",
              "      <th>name</th>\n",
              "      <th>details</th>\n",
              "      <th>description</th>\n",
              "      <th>product_active</th>\n",
              "      <th>product_description_combined</th>\n",
              "      <th>outfit_item_type</th>\n",
              "    </tr>\n",
              "  </thead>\n",
              "  <tbody>\n",
              "    <tr>\n",
              "      <th>0</th>\n",
              "      <td>01EX0PN4J9WRNZH5F93YEX6QAF</td>\n",
              "      <td>Two</td>\n",
              "      <td>Unknown</td>\n",
              "      <td>Khadi Stripe Shirt-our signature shirt</td>\n",
              "      <td>NaN</td>\n",
              "      <td>Our signature khadi shirt\\navailable in black and white\\nEasy to wear from beach to city. We promise this top will be your go-to warm\\nweather item. Perfect under a blazer. Hand loomed woven stripe in khadi cotton.\\n Slightly sheer and gets softer with every wash. Ships First week of April\\nCOLOR: WHITE OR BLACK\\n—  Length 27\"  and  Width  26.5\" —  One size fits most —  Grid khadi cotton</td>\n",
              "      <td>True</td>\n",
              "      <td>two unknown khadi stripe shirt  signature shirt    signature khadi shirt available in black and white easy to wear from beach to city  promise this top will be  go to warm weather item perfect under a blazer hand loomed weave stripe in khadi cotton   slightly sheer and get soft with every wash ship first week of april color white or black    length    and   width      one size fit most    grid khadi cotton</td>\n",
              "      <td>top</td>\n",
              "    </tr>\n",
              "    <tr>\n",
              "      <th>1</th>\n",
              "      <td>01F0C4SKZV6YXS3265JMC39NXW</td>\n",
              "      <td>Collina Strada</td>\n",
              "      <td>Unknown</td>\n",
              "      <td>RUFFLE MARKET DRESS LOOPY PINK SISTINE TOMATO</td>\n",
              "      <td>NaN</td>\n",
              "      <td>Mid-length dress with ruffles and adjustable straps. Bias cut. Side seam\\ninvisible zipper\\nMade in New York\\nModel wears size small\\n100% Rose sylk\\nRose sylk is an organic cellulose fiber made from the natural waste of rose\\nbushes and stems.</td>\n",
              "      <td>True</td>\n",
              "      <td>collina strada unknown ruffle market dress loopy pink sistine tomato   mid length dress with ruffle and adjustable strap bias cut side seam invisible zipper make in new york model wear size small   rose sylk rose sylk be an organic cellulose fiber make from the natural waste of rose bush and stem</td>\n",
              "      <td>onepiece</td>\n",
              "    </tr>\n",
              "    <tr>\n",
              "      <th>5</th>\n",
              "      <td>01EWTH4QH6RCMS20VPKNJZDNH3</td>\n",
              "      <td>Maia Bergman</td>\n",
              "      <td>Unknown</td>\n",
              "      <td>Ada</td>\n",
              "      <td>NaN</td>\n",
              "      <td>Easy, our smock mini dress with gorgeous puff sleeves. Feels like the first day\\nof spring. Belt included\\n100% LINEN\\nModel is wearing size XS</td>\n",
              "      <td>True</td>\n",
              "      <td>maia bergman unknown ada   easy  smock mini dress with gorgeous puff sleeve feel like the first day of spring belt include   linen model be wear size xs</td>\n",
              "      <td>onepiece</td>\n",
              "    </tr>\n",
              "    <tr>\n",
              "      <th>6</th>\n",
              "      <td>01EWTHFH4H3GP0Q34E6JBYJZNZ</td>\n",
              "      <td>Maia Bergman</td>\n",
              "      <td>Unknown</td>\n",
              "      <td>Clara</td>\n",
              "      <td>NaN</td>\n",
              "      <td>Picture perfect Clara, a stunning linen cover-up, calls for sandy feet and a\\nspicy cocktail. Don't disappoint her\\n100% LINEN\\nModel wears a size S.\\nThis style is dual sizing, pick S for (XS/S) and M for (M/L)</td>\n",
              "      <td>True</td>\n",
              "      <td>maia bergman unknown clara   picture perfect clara a stunning linen cover up call for sandy foot and a spicy cocktail do not disappoint    linen model wear a size s this style be dual sizing pick s for xss and m for ml</td>\n",
              "      <td>accessory</td>\n",
              "    </tr>\n",
              "    <tr>\n",
              "      <th>7</th>\n",
              "      <td>01EWTKPP4EEKZHJXEPYD7QRFP3</td>\n",
              "      <td>Maia Bergman</td>\n",
              "      <td>Unknown</td>\n",
              "      <td>Simone</td>\n",
              "      <td>NaN</td>\n",
              "      <td>Our best-selling, bump-friendly Simone will be your favourite in no time. It\\nwill be very difficult for you to wear anything else, don't say we didn't warn\\nyou.\\n100% COTTON\\nModel is wearing size XS</td>\n",
              "      <td>True</td>\n",
              "      <td>maia bergman unknown simone    good selling bump friendly simone will be  favourite in no time  will be very difficult for  to wear anything else do not say  do not warn    cotton model be wear size xs</td>\n",
              "      <td>top</td>\n",
              "    </tr>\n",
              "  </tbody>\n",
              "</table>\n",
              "</div>"
            ],
            "text/plain": [
              "                   product_id           brand brand_category  \\\n",
              "0  01EX0PN4J9WRNZH5F93YEX6QAF             Two        Unknown   \n",
              "1  01F0C4SKZV6YXS3265JMC39NXW  Collina Strada        Unknown   \n",
              "5  01EWTH4QH6RCMS20VPKNJZDNH3    Maia Bergman        Unknown   \n",
              "6  01EWTHFH4H3GP0Q34E6JBYJZNZ    Maia Bergman        Unknown   \n",
              "7  01EWTKPP4EEKZHJXEPYD7QRFP3    Maia Bergman        Unknown   \n",
              "\n",
              "                                            name details  \\\n",
              "0         Khadi Stripe Shirt-our signature shirt     NaN   \n",
              "1  RUFFLE MARKET DRESS LOOPY PINK SISTINE TOMATO     NaN   \n",
              "5                                            Ada     NaN   \n",
              "6                                          Clara     NaN   \n",
              "7                                         Simone     NaN   \n",
              "\n",
              "                                                                                                                                                                                                                                                                                                                                                                                              description  \\\n",
              "0  Our signature khadi shirt\\navailable in black and white\\nEasy to wear from beach to city. We promise this top will be your go-to warm\\nweather item. Perfect under a blazer. Hand loomed woven stripe in khadi cotton.\\n Slightly sheer and gets softer with every wash. Ships First week of April\\nCOLOR: WHITE OR BLACK\\n—  Length 27\"  and  Width  26.5\" —  One size fits most —  Grid khadi cotton   \n",
              "1                                                                                                                                                    Mid-length dress with ruffles and adjustable straps. Bias cut. Side seam\\ninvisible zipper\\nMade in New York\\nModel wears size small\\n100% Rose sylk\\nRose sylk is an organic cellulose fiber made from the natural waste of rose\\nbushes and stems.   \n",
              "5                                                                                                                                                                                                                                                         Easy, our smock mini dress with gorgeous puff sleeves. Feels like the first day\\nof spring. Belt included\\n100% LINEN\\nModel is wearing size XS   \n",
              "6                                                                                                                                                                                     Picture perfect Clara, a stunning linen cover-up, calls for sandy feet and a\\nspicy cocktail. Don't disappoint her\\n100% LINEN\\nModel wears a size S.\\nThis style is dual sizing, pick S for (XS/S) and M for (M/L)   \n",
              "7                                                                                                                                                                                               Our best-selling, bump-friendly Simone will be your favourite in no time. It\\nwill be very difficult for you to wear anything else, don't say we didn't warn\\nyou.\\n100% COTTON\\nModel is wearing size XS   \n",
              "\n",
              "   product_active  \\\n",
              "0            True   \n",
              "1            True   \n",
              "5            True   \n",
              "6            True   \n",
              "7            True   \n",
              "\n",
              "                                                                                                                                                                                                                                                                                                                                                                                                product_description_combined  \\\n",
              "0  two unknown khadi stripe shirt  signature shirt    signature khadi shirt available in black and white easy to wear from beach to city  promise this top will be  go to warm weather item perfect under a blazer hand loomed weave stripe in khadi cotton   slightly sheer and get soft with every wash ship first week of april color white or black    length    and   width      one size fit most    grid khadi cotton   \n",
              "1                                                                                                                  collina strada unknown ruffle market dress loopy pink sistine tomato   mid length dress with ruffle and adjustable strap bias cut side seam invisible zipper make in new york model wear size small   rose sylk rose sylk be an organic cellulose fiber make from the natural waste of rose bush and stem   \n",
              "5                                                                                                                                                                                                                                                                   maia bergman unknown ada   easy  smock mini dress with gorgeous puff sleeve feel like the first day of spring belt include   linen model be wear size xs   \n",
              "6                                                                                                                                                                                                 maia bergman unknown clara   picture perfect clara a stunning linen cover up call for sandy foot and a spicy cocktail do not disappoint    linen model wear a size s this style be dual sizing pick s for xss and m for ml   \n",
              "7                                                                                                                                                                                                                  maia bergman unknown simone    good selling bump friendly simone will be  favourite in no time  will be very difficult for  to wear anything else do not say  do not warn    cotton model be wear size xs   \n",
              "\n",
              "  outfit_item_type  \n",
              "0              top  \n",
              "1         onepiece  \n",
              "5         onepiece  \n",
              "6        accessory  \n",
              "7              top  "
            ]
          },
          "metadata": {
            "tags": []
          },
          "execution_count": 22
        }
      ]
    },
    {
      "cell_type": "markdown",
      "metadata": {
        "id": "4uWZ10jhVRlH"
      },
      "source": [
        "# Extract New Features\n",
        "We will use column 'product_description_combined' to extract some features which will be used to match user's search query."
      ]
    },
    {
      "cell_type": "code",
      "metadata": {
        "id": "L-FRnhuD7glg"
      },
      "source": [
        "def get_feature_coloum(df,corpus_column,target_column,pattern):\n",
        "  df[target_column] = df[corpus_column].str.findall(pattern, flags=re.IGNORECASE)\n",
        "  df[target_column]= df[target_column].apply(lambda y: np.nan if len(y)==0 else y)\n",
        "  df[target_column]= df[target_column].fillna(\"\")\n",
        "  df[target_column]= df[target_column].apply(\" \".join)  \n",
        "  df[target_column] = (df[target_column].str.split().apply(lambda x: OrderedDict.fromkeys(x).keys()).str.join(' '))\n",
        "  return df"
      ],
      "execution_count": 23,
      "outputs": []
    },
    {
      "cell_type": "code",
      "metadata": {
        "id": "rc3O7cNHVVl8"
      },
      "source": [
        "### Extract Detailed Products\n",
        "product_type_pattern = r'\\b(?P<Products>pant[s]?|bottom[s]?|jean[s]?|legging|jogger|sweatpant[s]?|trouser[s]?|short[s]?|skirt[s]?|culotte[s]?\\\n",
        "|jumpsuit[s]?|romper[s]?|dress|playsuit[s]?|onepiece|one-piece|unitard|gown[s]?|robe[s]?|cloak[s]?|bodysuit[s]?|swimsuit[s]?\\\n",
        "|shoe[s]?|sneaker[s]?|sandal[s]?|slipper[s]?|boot[s]?|heel[s]?|pump[s]?|flat[s]?|espadrille[s]?|slide[s]?|flip-flop[s]?\\\n",
        "|flip flop[s]?|flipflop[s]?|wedge[s]?|loafer[s]?|oxford[s]?|mule[s]?|clog[s]?|chukka[s]?|chelsea[s]?|combat[s]?|moccasin[s]?\\\n",
        "|driver[s]?|derby[s]?|blucher[s]?|accessory|accessories|bag[s]?|backpack[s]?|tote[s]?|wristle[s]?t|handbag[s]?|card case[s]?\\\n",
        "|card holder[s]?|satchel[s]?|cross\\s?body[s]?|wallet[s]?|pouch[s]?|purse[s]?|clutch[s]?|bucket[s]?|pack[s]?|scarf|scarves|wrap\\\n",
        "|pashmina|shawl|stole|neckwear[s]?|kerchief|boa|bra[s]?|belt[s]?|bikini[s]?|shirt[s]?|coat[s]?|blazer[s]?|t\\s?shirt[s]?|blouse[s]?\\\n",
        "|sweatshirt[s]?|tanks|camis|top[s]?|sweater[s]?|knit[s]?|knitwear[s]?|sleeve[s]?|hoody|hoodie[s]?|shoulder\\s?bag[s]?|cardigan\\\n",
        "|turban|tee|saddle|jacket|tunic|caftan)\\b'\n",
        "\n",
        "df2 = get_feature_coloum(df2,'product_description_combined','product_type',product_type_pattern)"
      ],
      "execution_count": 24,
      "outputs": []
    },
    {
      "cell_type": "code",
      "metadata": {
        "id": "MB0oPoq29zLT"
      },
      "source": [
        "### Extract Weather & Season\n",
        "weather_pattern = r'\\b(?P<Weather_Season>cold|cool|cooler|warm|warmer|hot|spring|summer|fall|autumn|winter|snow[y]?|rain[y]?|wind[y]?\\|cloud[y]?)\\b'\n",
        "df2 = get_feature_coloum(df2,'product_description_combined','Weather_Season',weather_pattern)"
      ],
      "execution_count": 25,
      "outputs": []
    },
    {
      "cell_type": "code",
      "metadata": {
        "id": "cmLuZ6J--C-O"
      },
      "source": [
        "### Extract Occassion\n",
        "occasion_pattern = r'\\b(?P<Occassion>beach[e]?[s]?|city|business|formal|casual|professional|interview|wedding|dinner|date|dating\\\n",
        "|party|parties|baptism|funeral|cocktail|bar|night)\\b'\n",
        "df2 = get_feature_coloum(df2,'product_description_combined','Occasion',occasion_pattern)"
      ],
      "execution_count": 26,
      "outputs": []
    },
    {
      "cell_type": "code",
      "metadata": {
        "id": "uu5h76VtVs0m"
      },
      "source": [
        "### Extract Material\n",
        "material_pattern = r'\\b(?P<Material>100\\s?organic|100\\s?cotton|organic|nylon|elastane|cotton|silk|wool|woolen|leather|ramie|flax\\\n",
        "|denim|fur|polyester[s]?|spandex|suede|rose|nappa)\\b'\n",
        "df2 = get_feature_coloum(df2,'product_description_combined','material',material_pattern)"
      ],
      "execution_count": 27,
      "outputs": []
    },
    {
      "cell_type": "code",
      "metadata": {
        "id": "xbSXT3pRVs3U"
      },
      "source": [
        "### Extract Made_in\n",
        "made_in_pattern = r'(?:made|make)\\s?in\\s?(?P<Made_in>\\w+\\s?\\w*)\\b'\n",
        "df2 = get_feature_coloum(df2,'product_description_combined','made_in',made_in_pattern)"
      ],
      "execution_count": 28,
      "outputs": []
    },
    {
      "cell_type": "code",
      "metadata": {
        "id": "x4zz7HYEVs5m"
      },
      "source": [
        "### Extract the fit with context-window 2\n",
        "fit_long_pattern = r'\\b\\w+\\s(?:leg[s]?|raise|waist|inseam|hip|knee|ankle|thigh|neck|shoulder[s]?|back|arm|rear|calves)\\s\\w+\\b'\n",
        "df2 = get_feature_coloum(df2,'product_description_combined','fit_long',fit_long_pattern)"
      ],
      "execution_count": 29,
      "outputs": []
    },
    {
      "cell_type": "code",
      "metadata": {
        "id": "AcCL0ezLVs8_"
      },
      "source": [
        "### Extract the fit\n",
        "fit_pattern = r'\\b(?P<fit>tight\\s?(?:leg)?|skinny\\s?(?:leg)?|slim\\s?(?:leg)?|cropped\\s?(?:leg)?|straight\\s?(?:leg)?\\\n",
        "|flare\\s?(?:leg)?|wide\\s?(?:leg)?|(?:high|low|medium)\\s?rise|(?:high|low|medium)\\s?waist|boyfriend|girlfriend|crop|cropped|ripped)\\b'\n",
        "df2 = get_feature_coloum(df2,'product_description_combined','fit',fit_pattern)"
      ],
      "execution_count": 30,
      "outputs": []
    },
    {
      "cell_type": "code",
      "metadata": {
        "id": "uQerMS68V_RS"
      },
      "source": [
        "### Extract the pattern\n",
        "pattern = r'\\b(?P<pattern>stripe[d]?|floral|polka\\s?dot|herringbone|paisley|stripe[s]?|flora|ruffle[s]?|twist|stretch|patch|drawstring|zipper|opaque|v\\s?neck)\\b'\n",
        "df2 = get_feature_coloum(df2,'product_description_combined','pattern',pattern)"
      ],
      "execution_count": 31,
      "outputs": []
    },
    {
      "cell_type": "code",
      "metadata": {
        "id": "u0OHtyf8V_Uw"
      },
      "source": [
        "### Extract the age\n",
        "age_pattern = r'\\b(?P<age>baby|babies|kid[s]?|child|children|teen[s]?|adult[s]?|boy[s]?|girl[s]?)\\b'\n",
        "df2 = get_feature_coloum(df2,'product_description_combined','age',age_pattern)"
      ],
      "execution_count": 32,
      "outputs": []
    },
    {
      "cell_type": "code",
      "metadata": {
        "id": "FnWiLm-dV_dN"
      },
      "source": [
        "### Extract the size\n",
        "size_pattern = r'\\b(?P<size>small|medium|large|extra\\s?small|extra\\s?large|xs|s|m|l|xl|xxl|xxxL|one\\s?size|uni\\s?size)\\b'\n",
        "df2 = get_feature_coloum(df2,'product_description_combined','size',size_pattern)"
      ],
      "execution_count": 33,
      "outputs": []
    },
    {
      "cell_type": "code",
      "metadata": {
        "id": "ShdA4imYVVoP"
      },
      "source": [
        "### Identify Color\n",
        "def identify_color(line):\n",
        "    #print(line)\n",
        "    beige_pattern=r'(\\bbeige[s]?\\b)'\n",
        "    black_pattern=r'(\\bblack[s]?\\b)'\n",
        "    blue_pattern=r'(\\bblue[s]?\\b)'\n",
        "    brown_pattern=r'(\\bbrown[s]?\\b)'\n",
        "    burgundy_pattern=r'(\\bburgundy[s]?\\b)'\n",
        "    Gold_pattern=r'(\\bgold[s]?\\b)'\n",
        "    Gray_pattern=r'\\b(gray[s]?|grey[s]?)\\b'\n",
        "    Green_pattern=r'(\\bgreen[s]?\\b)'\n",
        "    Navy_pattern=r'(\\bnavy[s]?\\b)'\n",
        "    Neutral_pattern=r'(\\bneutral[s]?\\b)'\n",
        "    Orange_pattern=r'(\\borange[s]?\\b)'\n",
        "    Pinks_pattern=r'(\\bpink[s]?\\b)'\n",
        "    Purple_pattern=r'(\\bpurple[s]?\\b)'\n",
        "    Red_pattern=r'(\\bred[s]?\\b)'\n",
        "    Silver_pattern=r'(\\bsilver[s]?\\b)'\n",
        "    Teal_pattern=r'(\\bteal[s]?\\b)'\n",
        "    White_pattern=r'(\\bwhite[s]?\\b)'\n",
        "    Yellow_pattern=r'(\\byellow[s]?\\b)'\n",
        "    \n",
        "    colors=[\"\"]\n",
        "    match1 = re.search(beige_pattern, line, flags=re.IGNORECASE)\n",
        "    match2 = re.search(black_pattern, line, flags=re.IGNORECASE)\n",
        "    match3 = re.search(blue_pattern, line, flags=re.IGNORECASE)\n",
        "    match4 = re.search(brown_pattern, line, flags=re.IGNORECASE)\n",
        "    match5 = re.search(burgundy_pattern, line, flags=re.IGNORECASE)\n",
        "    match6 = re.search(Gold_pattern, line, flags=re.IGNORECASE)\n",
        "    match7 = re.search(Gray_pattern, line, flags=re.IGNORECASE)\n",
        "    match8 = re.search(Green_pattern, line, flags=re.IGNORECASE)\n",
        "    match9 = re.search(Navy_pattern, line, flags=re.IGNORECASE)\n",
        "    match10 = re.search(Neutral_pattern, line, flags=re.IGNORECASE)\n",
        "    match11 = re.search(Orange_pattern, line, flags=re.IGNORECASE)\n",
        "    match12 = re.search(Pinks_pattern, line, flags=re.IGNORECASE)\n",
        "    match13 = re.search(Purple_pattern, line, flags=re.IGNORECASE)\n",
        "    match14 = re.search(Red_pattern, line, flags=re.IGNORECASE)\n",
        "    match15 = re.search(Silver_pattern, line, flags=re.IGNORECASE)\n",
        "    match16 = re.search(Teal_pattern, line, flags=re.IGNORECASE)\n",
        "    match17 = re.search(White_pattern, line, flags=re.IGNORECASE)\n",
        "    match18 = re.search(Yellow_pattern, line, flags=re.IGNORECASE)\n",
        "    \n",
        "    if match1:\n",
        "        colors.append('beige')\n",
        "    if match2:\n",
        "        colors.append('black')\n",
        "    if match3:\n",
        "        colors.append('blue')\n",
        "    if match4:\n",
        "        colors.append('brown')\n",
        "    if match5:\n",
        "        colors.append('burgundy')\n",
        "    if match6:\n",
        "        colors.append('gold')\n",
        "    if match7:\n",
        "        colors.append('gray grey')\n",
        "    if match8:\n",
        "        colors.append('green')\n",
        "    if match9:\n",
        "        colors.append('navy')\n",
        "    if match10:\n",
        "        colors.append('neutral')\n",
        "    if match11:\n",
        "        colors.append('orange')\n",
        "    if match12:\n",
        "        colors.append('pinks')\n",
        "    if match13:\n",
        "        colors.append('purple')\n",
        "    if match14:\n",
        "        colors.append('red')\n",
        "    if match15:\n",
        "        colors.append('silver')\n",
        "    if match16:\n",
        "        colors.append('teal')\n",
        "    if match17:\n",
        "        colors.append('white')\n",
        "    if match18:\n",
        "        colors.append('yellow')\n",
        "    # return the first identified colors\n",
        "    length=len(colors)\n",
        "    if length > 1:\n",
        "        result= colors[1:]\n",
        "    else:\n",
        "        result=colors[0]\n",
        "    return \" \".join(result)"
      ],
      "execution_count": 34,
      "outputs": []
    },
    {
      "cell_type": "code",
      "metadata": {
        "id": "m-EhuujnVrxz"
      },
      "source": [
        "df2['color'] = df2['product_description_combined'].apply(identify_color)"
      ],
      "execution_count": 35,
      "outputs": []
    },
    {
      "cell_type": "code",
      "metadata": {
        "id": "i-7Y08dZV_Yz"
      },
      "source": [
        "### identify the gender\n",
        "def identify_gender(line):\n",
        "    woman_pattern = r'\\b(woman|women|girl[s]?|lady|ladies|dress|dresses|onepiece|blouse[s]?|skirt[s]?|skort|camisole|boyfriend\\\n",
        "    |femme|female|unisex|she|her)\\b'\n",
        "    man_pattern = r'\\b(man|men|male|unisex|boy[s]?|he|him|his)\\b'\n",
        "    gender=[\"\"]\n",
        "    \n",
        "    match1 = re.search(woman_pattern, line, flags=re.IGNORECASE)\n",
        "    match2 = re.search(man_pattern, line, flags=re.IGNORECASE)\n",
        "    if match1:\n",
        "        gender.append('woman')\n",
        "    if match2:\n",
        "        gender.append('man')\n",
        "\n",
        "    return \" \".join(gender)"
      ],
      "execution_count": 36,
      "outputs": []
    },
    {
      "cell_type": "code",
      "metadata": {
        "id": "cZZTcoDGV_bM"
      },
      "source": [
        "df2['gender'] = df2['product_description_combined'].apply(identify_gender)"
      ],
      "execution_count": 37,
      "outputs": []
    },
    {
      "cell_type": "code",
      "metadata": {
        "id": "GOFDGzt9E745"
      },
      "source": [
        "### Identify Categories\n",
        "def identify_category(line):\n",
        "    bottom_pattern = r'\\b(pant[s]?|jeans|leg|legging|jogger|sweatpant[s]?|trouser[s]?|short[s]?|skirt[s]?|culotte[s]?)\\b'\n",
        "    one_piece_pattern=r'\\b(jumpsuit[s]?|romper[s]?|dress|playsuit[s]?|one\\s?piece|one-piece|unitard|gown[s]?|robe[s]?|cloak[s]?|bodysuit[s]?|swimsuit[s]?|bikini[s]?)\\b'\n",
        "    shoe_pattern=r'\\b(shoe[s]?|sneaker[s]?|sandal[s]?|slipper[s]?|boot[s]?|heel[s]?|pump[s]?|flat[s]?|espadrille[s]?|slide[s]?|flip-flop[s]?|flip flop[s]?|flipflop[s]?|wedge[s]?|loafer[s]?|oxford[s]?|mule[s]?|clog[s]?|chukka[s]?|chelsea[s]?|combat[s]?|moccasin[s]?|driver[s]?|derby[s]?|blucher[s]?|saddle)\\b'\n",
        "    accessory_pattern=r'\\b(accessory|accessories|bag[s]?|backpack[s]?|tote[s]?|wristle[s]?t|handbag[s]?|card case[s]?|card holder[s]?|satchel[s]?|cross\\s?body[s]?|wallet[s]?|pouch[s]?|purse[s]?|clutch[s]?|bucket[s]?|pack[s]?|scarf|scarves|wrap|pashmina|shawl|stole|neckwear[s]?|kerchief|boa|bra[s]?|belts|tie|turban)\\b'\n",
        "    top_pattern=r'\\b(tee|t\\s?shirt[s]?|shirt[s]?|coat[s]?|blazer[s]?|tshirt[s]?|blouse[s]?|sweatshirt[s]?|tanks|camis|top[s]?|sweater[s]?|knitwear[s]?|hoody|hoodie[s]?|cardigan|jacket|tunic|caftan)\\b'\n",
        "    \n",
        "    category=[np.nan]\n",
        "    match1 = re.search(one_piece_pattern, line, flags=re.IGNORECASE)\n",
        "    match2 = re.search(bottom_pattern, line, flags=re.IGNORECASE)\n",
        "    match3 = re.search(top_pattern, line, flags=re.IGNORECASE)\n",
        "    match4 = re.search(shoe_pattern, line, flags=re.IGNORECASE)\n",
        "    match5 = re.search(accessory_pattern, line, flags=re.IGNORECASE)\n",
        "    if match1:\n",
        "        category.append('onepiece')\n",
        "    if match2:\n",
        "        category.append('bottom')\n",
        "    if match3:\n",
        "        category.append('top')\n",
        "    if match4:\n",
        "        category.append('shoe')\n",
        "    if match5:\n",
        "        category.append('accessory')\n",
        "    \n",
        "    length=len(category)\n",
        "    if length > 1:\n",
        "        a = category[1]\n",
        "    else:\n",
        "        a = category[0]\n",
        "    # return the first identified category\n",
        "    return a"
      ],
      "execution_count": 76,
      "outputs": []
    },
    {
      "cell_type": "code",
      "metadata": {
        "id": "6fKJwskGGWuo"
      },
      "source": [
        "df2['regex_cat'] = df2['product_description_combined'].apply(identify_category)\n",
        "df2[\"regex_cat\"]= df2[\"regex_cat\"].fillna(\"\")"
      ],
      "execution_count": 77,
      "outputs": []
    },
    {
      "cell_type": "code",
      "metadata": {
        "id": "MDoNjZxYGewN"
      },
      "source": [
        "### incorporate outfit_item_type and regex_cat\n",
        "\n",
        "for i in df2.index:\n",
        "  check = len(df2.loc[i,'regex_cat'])\n",
        "  if check == 0:\n",
        "    df2.loc[i, 'product_category'] = df2.loc[i, 'outfit_item_type']\n",
        "  else:\n",
        "    df2.loc[i, 'product_category'] = df2.loc[i,'regex_cat']"
      ],
      "execution_count": 78,
      "outputs": []
    },
    {
      "cell_type": "code",
      "metadata": {
        "colab": {
          "base_uri": "https://localhost:8080/",
          "height": 863
        },
        "id": "ciqsHClrIE3x",
        "outputId": "58bfae4f-6ce2-4274-f3db-667749e6aa2b"
      },
      "source": [
        "# can sample a few to see how regex classification is doing\n",
        "df2[['name','product_description_combined','outfit_item_type','regex_cat','product_category']].sample(10)"
      ],
      "execution_count": 79,
      "outputs": [
        {
          "output_type": "execute_result",
          "data": {
            "text/html": [
              "<div>\n",
              "<style scoped>\n",
              "    .dataframe tbody tr th:only-of-type {\n",
              "        vertical-align: middle;\n",
              "    }\n",
              "\n",
              "    .dataframe tbody tr th {\n",
              "        vertical-align: top;\n",
              "    }\n",
              "\n",
              "    .dataframe thead th {\n",
              "        text-align: right;\n",
              "    }\n",
              "</style>\n",
              "<table border=\"1\" class=\"dataframe\">\n",
              "  <thead>\n",
              "    <tr style=\"text-align: right;\">\n",
              "      <th></th>\n",
              "      <th>name</th>\n",
              "      <th>product_description_combined</th>\n",
              "      <th>outfit_item_type</th>\n",
              "      <th>regex_cat</th>\n",
              "      <th>product_category</th>\n",
              "    </tr>\n",
              "  </thead>\n",
              "  <tbody>\n",
              "    <tr>\n",
              "      <th>25107</th>\n",
              "      <td>POPPY TOP – NAVY</td>\n",
              "      <td>st roche unknown poppy top   navy   with bracelet length puff sleeve this romantic s influence blouse have a high ruffle neck and front slit reveal a subtle glimpse of skin the original poppy embroidery design on the yoke be inspire by a delicate drawing by anita pallenberg and hand embroider by with the artisan  work with in jaipur  love this wear with high waiste denim ship fri april th     handwoven gots certify organic cotton    unlined    color navy with white   mustard hand embroider poppy on the sleeve    relaxed fit top with a ruffle collar and soft gather from the yoke    bracelet length puff sleeve with pintuck detail    slip on over head    length from shoulder to front hem measure on a size small be     delicate wash cold wash with like color hang to dry do not tumble cool     iron on reverse side or dry cleanable green dry clean if possible    make in india model measure   tall and be wear a size</td>\n",
              "      <td>top</td>\n",
              "      <td>top</td>\n",
              "      <td>top</td>\n",
              "    </tr>\n",
              "    <tr>\n",
              "      <th>31405</th>\n",
              "      <td>Spot Me Top</td>\n",
              "      <td>astr the label unknown spot  top    viscose    nylon    line   polyester    button closure    dry clean only    ruche detail    puff sleeve    styleact     length    size m    model be wear size s    model measurement height    bust    waist    hip     fit true to size spot  new favorite top  feature a semi sheer v neckline that descend to a shirred front velvet burnout polka dot print throughout long sheer sleeve with statement shoulder</td>\n",
              "      <td>top</td>\n",
              "      <td>top</td>\n",
              "      <td>top</td>\n",
              "    </tr>\n",
              "    <tr>\n",
              "      <th>33185</th>\n",
              "      <td>Lada Top</td>\n",
              "      <td>rachel comey unknown lada top   the fluid lada top be cut from  signature lash crepe feature elbow length sleeve and a slouchy turtleneck this style be easily style for casual or formal wear the frayed surface point of  lash crepe result from the severing of thread in  jacquard motif    relaxed turtleneck blouse    zipper closure at back     viscose   polyester    make in usa</td>\n",
              "      <td>top</td>\n",
              "      <td>top</td>\n",
              "      <td>top</td>\n",
              "    </tr>\n",
              "    <tr>\n",
              "      <th>30604</th>\n",
              "      <td>Mojo Boot in Tango Red</td>\n",
              "      <td>simon miller unknown mojo boot in tango red   round toe over the calf boot detail model   f   cow leather   emboss lizard make in pt size mm heel</td>\n",
              "      <td>shoe</td>\n",
              "      <td>shoe</td>\n",
              "      <td>shoe</td>\n",
              "    </tr>\n",
              "    <tr>\n",
              "      <th>30525</th>\n",
              "      <td>Clematis Top</td>\n",
              "      <td>rachel comey unknown clematis top   multi seasonal basic knit with airy pointelle stitch the clematis top be sleek and minimal feature a boat neck and cap sleeve pair this crop shell with any trouser in  wardrobe    slim fit knit    semi sheer     wool   cotton   viscose   nylon    make in china</td>\n",
              "      <td>top</td>\n",
              "      <td>bottom</td>\n",
              "      <td>bottom</td>\n",
              "    </tr>\n",
              "    <tr>\n",
              "      <th>34820</th>\n",
              "      <td>Devereaux Ruffle Midi Dress</td>\n",
              "      <td>astr the label unknown devereaux ruffle midi dress   dry clean only    self   polyester    line   polyester    elastane    zipper closure    style acdrb     length    size m    model be wear size s      fit true to size</td>\n",
              "      <td>onepiece</td>\n",
              "      <td>onepiece</td>\n",
              "      <td>onepiece</td>\n",
              "    </tr>\n",
              "    <tr>\n",
              "      <th>29460</th>\n",
              "      <td>The Hustler Ankle Fray Dragonfly</td>\n",
              "      <td>mother denim apparel the hustler ankle fray dragonfly   expressive healing selfless  classic bootcut with a crop and fray hem in bright blue make in los angeles style no dfy</td>\n",
              "      <td>shoe</td>\n",
              "      <td></td>\n",
              "      <td>shoe</td>\n",
              "    </tr>\n",
              "    <tr>\n",
              "      <th>35459</th>\n",
              "      <td>Logo Leather Crossbody Pouch</td>\n",
              "      <td>alexander wang handbagshandbagscrossbodybags logo leather crossbody pouch   sleek leather crossbody bag highlight with logo trim shoulder strap dual top zip closure silvertone hardware three interior card slot line leather import size w x h x d</td>\n",
              "      <td>accessory</td>\n",
              "      <td>top</td>\n",
              "      <td>top</td>\n",
              "    </tr>\n",
              "    <tr>\n",
              "      <th>32547</th>\n",
              "      <td>OSLO - GREY MIXED ANIMAL</td>\n",
              "      <td>rails unknown oslo   grey mixed animal   detail   long sleeve over sized grey animal print heavy wool cardigan sweater feature large patch pocket and faux tortoiseshell button this chunky and fluffy cardigan will be  go to cozy piece to curl up in or wear in place of a lightweight jacket   superfine alpaca    extrafine merino wool    polyamide fiber    elastan import care   dry clean or hand wash cold lie flat to dry cool iron if need do not bleach fit   recommend order true to size body length    measure from small model be wear size s model measurement height   bust   waist    hip</td>\n",
              "      <td>accessory</td>\n",
              "      <td>top</td>\n",
              "      <td>top</td>\n",
              "    </tr>\n",
              "    <tr>\n",
              "      <th>28853</th>\n",
              "      <td>Burnout Leopard Wrap Top</td>\n",
              "      <td>astr the label unknown burnout leopard wrap top    viscose    nylon    line   polyester    button closure    dry clean only    leopard print    wrap blouse    styleatb     length    size m    model be wear size s    model measurement height    bust    waist    hip     fit true to size animal print take over a classic silhouette this ultra femme top feature a wrap front and v neckline define waist lead to a slightly flare hemline strong puff shoulder add interest and sheer long sleeve finish the look</td>\n",
              "      <td>top</td>\n",
              "      <td>top</td>\n",
              "      <td>top</td>\n",
              "    </tr>\n",
              "  </tbody>\n",
              "</table>\n",
              "</div>"
            ],
            "text/plain": [
              "                                   name  \\\n",
              "25107                  POPPY TOP – NAVY   \n",
              "31405                       Spot Me Top   \n",
              "33185                          Lada Top   \n",
              "30604            Mojo Boot in Tango Red   \n",
              "30525                      Clematis Top   \n",
              "34820       Devereaux Ruffle Midi Dress   \n",
              "29460  The Hustler Ankle Fray Dragonfly   \n",
              "35459      Logo Leather Crossbody Pouch   \n",
              "32547          OSLO - GREY MIXED ANIMAL   \n",
              "28853          Burnout Leopard Wrap Top   \n",
              "\n",
              "                                                                                                                                                                                                                                                                                                                                                                                                                                                                                                                                                                                                                                                                                                                                                                                                                                                                                                                                     product_description_combined  \\\n",
              "25107  st roche unknown poppy top   navy   with bracelet length puff sleeve this romantic s influence blouse have a high ruffle neck and front slit reveal a subtle glimpse of skin the original poppy embroidery design on the yoke be inspire by a delicate drawing by anita pallenberg and hand embroider by with the artisan  work with in jaipur  love this wear with high waiste denim ship fri april th     handwoven gots certify organic cotton    unlined    color navy with white   mustard hand embroider poppy on the sleeve    relaxed fit top with a ruffle collar and soft gather from the yoke    bracelet length puff sleeve with pintuck detail    slip on over head    length from shoulder to front hem measure on a size small be     delicate wash cold wash with like color hang to dry do not tumble cool     iron on reverse side or dry cleanable green dry clean if possible    make in india model measure   tall and be wear a size   \n",
              "31405                                                                                                                                                                                                                                                                                                                                                                                                                                                                                                   astr the label unknown spot  top    viscose    nylon    line   polyester    button closure    dry clean only    ruche detail    puff sleeve    styleact     length    size m    model be wear size s    model measurement height    bust    waist    hip     fit true to size spot  new favorite top  feature a semi sheer v neckline that descend to a shirred front velvet burnout polka dot print throughout long sheer sleeve with statement shoulder   \n",
              "33185                                                                                                                                                                                                                                                                                                                                                                                                                                                                                                                                                            rachel comey unknown lada top   the fluid lada top be cut from  signature lash crepe feature elbow length sleeve and a slouchy turtleneck this style be easily style for casual or formal wear the frayed surface point of  lash crepe result from the severing of thread in  jacquard motif    relaxed turtleneck blouse    zipper closure at back     viscose   polyester    make in usa         \n",
              "30604                                                                                                                                                                                                                                                                                                                                                                                                                                                                                                                                                                                                                                                                                                                                                                                                           simon miller unknown mojo boot in tango red   round toe over the calf boot detail model   f   cow leather   emboss lizard make in pt size mm heel   \n",
              "30525                                                                                                                                                                                                                                                                                                                                                                                                                                                                                                                                                                                                                                              rachel comey unknown clematis top   multi seasonal basic knit with airy pointelle stitch the clematis top be sleek and minimal feature a boat neck and cap sleeve pair this crop shell with any trouser in  wardrobe    slim fit knit    semi sheer     wool   cotton   viscose   nylon    make in china         \n",
              "34820                                                                                                                                                                                                                                                                                                                                                                                                                                                                                                                                                                                                                                                                                                                                 astr the label unknown devereaux ruffle midi dress   dry clean only    self   polyester    line   polyester    elastane    zipper closure    style acdrb     length    size m    model be wear size s      fit true to size   \n",
              "29460                                                                                                                                                                                                                                                                                                                                                                                                                                                                                                                                                                                                                                                                                                                                                                               mother denim apparel the hustler ankle fray dragonfly   expressive healing selfless  classic bootcut with a crop and fray hem in bright blue make in los angeles style no dfy   \n",
              "35459                                                                                                                                                                                                                                                                                                                                                                                                                                                                                                                                                                                                                                                                                                        alexander wang handbagshandbagscrossbodybags logo leather crossbody pouch   sleek leather crossbody bag highlight with logo trim shoulder strap dual top zip closure silvertone hardware three interior card slot line leather import size w x h x d   \n",
              "32547                                                                                                                                                                                                                                                                                                                                               rails unknown oslo   grey mixed animal   detail   long sleeve over sized grey animal print heavy wool cardigan sweater feature large patch pocket and faux tortoiseshell button this chunky and fluffy cardigan will be  go to cozy piece to curl up in or wear in place of a lightweight jacket   superfine alpaca    extrafine merino wool    polyamide fiber    elastan import care   dry clean or hand wash cold lie flat to dry cool iron if need do not bleach fit   recommend order true to size body length    measure from small model be wear size s model measurement height   bust   waist    hip   \n",
              "28853                                                                                                                                                                                                                                                                                                                                                                                                                                    astr the label unknown burnout leopard wrap top    viscose    nylon    line   polyester    button closure    dry clean only    leopard print    wrap blouse    styleatb     length    size m    model be wear size s    model measurement height    bust    waist    hip     fit true to size animal print take over a classic silhouette this ultra femme top feature a wrap front and v neckline define waist lead to a slightly flare hemline strong puff shoulder add interest and sheer long sleeve finish the look   \n",
              "\n",
              "      outfit_item_type regex_cat product_category  \n",
              "25107              top       top              top  \n",
              "31405              top       top              top  \n",
              "33185              top       top              top  \n",
              "30604             shoe      shoe             shoe  \n",
              "30525              top    bottom           bottom  \n",
              "34820         onepiece  onepiece         onepiece  \n",
              "29460             shoe                       shoe  \n",
              "35459        accessory       top              top  \n",
              "32547        accessory       top              top  \n",
              "28853              top       top              top  "
            ]
          },
          "metadata": {
            "tags": []
          },
          "execution_count": 79
        }
      ]
    },
    {
      "cell_type": "code",
      "metadata": {
        "colab": {
          "base_uri": "https://localhost:8080/"
        },
        "id": "zDFRyMXCV_hp",
        "outputId": "36a81590-2501-4c6f-e877-081456c30370"
      },
      "source": [
        "# take a look at how many features we added\n",
        "df2.columns"
      ],
      "execution_count": 80,
      "outputs": [
        {
          "output_type": "execute_result",
          "data": {
            "text/plain": [
              "Index(['product_id', 'brand', 'brand_category', 'name', 'details',\n",
              "       'description', 'product_active', 'product_description_combined',\n",
              "       'outfit_item_type', 'product_type', 'Weather_Season', 'Occasion',\n",
              "       'material', 'made_in', 'fit_long', 'fit', 'pattern', 'age', 'size',\n",
              "       'color', 'gender', 'regex_cat', 'product_category', 'final_features'],\n",
              "      dtype='object')"
            ]
          },
          "metadata": {
            "tags": []
          },
          "execution_count": 80
        }
      ]
    },
    {
      "cell_type": "markdown",
      "metadata": {
        "id": "PiJHtDS1WSPJ"
      },
      "source": [
        "# Preparing Final Corpus\n",
        "Join the new features into a string"
      ]
    },
    {
      "cell_type": "code",
      "metadata": {
        "id": "0V8ZcgUUWQIL"
      },
      "source": [
        "df2['final_features'] = df2[['name',\n",
        "       'product_category', 'product_type', 'Weather_Season', 'Occasion',\n",
        "       'color', 'material', 'made_in', 'fit_long', 'fit', 'pattern', 'age',\n",
        "       'gender', 'size']].astype(str).agg(' '.join, axis=1)"
      ],
      "execution_count": 81,
      "outputs": []
    },
    {
      "cell_type": "code",
      "metadata": {
        "id": "zPFEt_m4WQQL"
      },
      "source": [
        "final_corpus= df2[['product_id','product_category','name','final_features']].copy()"
      ],
      "execution_count": 82,
      "outputs": []
    },
    {
      "cell_type": "code",
      "metadata": {
        "id": "nJHEAbLMWQVh"
      },
      "source": [
        "def remove_stopwords(feature: str):\n",
        "    tokens = nltk.word_tokenize(feature)\n",
        "    filtered_tokens = list(filter(lambda token: token not in nltk_stopwords, tokens))\n",
        "    return \" \".join(filtered_tokens)\n",
        "\n",
        "# https://gaurav5430.medium.com/using-nltk-for-lemmatizing-sentences-c1bfff963258\n",
        "def lemmatize_sentence(sentence):\n",
        "    #tokenize the sentence and find the POS tag for each token\n",
        "    nltk_tagged = nltk.pos_tag(nltk.word_tokenize(sentence))  \n",
        "    #tuple of (token, wordnet_tag)\n",
        "    wordnet_tagged = map(lambda x: (x[0], nltk_tag_to_wordnet_tag(x[1])), nltk_tagged)\n",
        "    lemmatized_sentence = []\n",
        "    for word, tag in wordnet_tagged:\n",
        "        if tag is None:\n",
        "            #if there is no available tag, append the token as is\n",
        "            lemmatized_sentence.append(word)\n",
        "        else:        \n",
        "            #else use the tag to lemmatize the token\n",
        "            lemmatized_sentence.append(lemmatizer.lemmatize(word, tag))\n",
        "    return \" \".join(lemmatized_sentence) \n",
        "\n",
        "# function to convert nltk tag to wordnet tag\n",
        "def nltk_tag_to_wordnet_tag(nltk_tag):\n",
        "    if nltk_tag.startswith('J'):\n",
        "        return wordnet.ADJ\n",
        "    elif nltk_tag.startswith('V'):\n",
        "        return wordnet.VERB\n",
        "    elif nltk_tag.startswith('N'):\n",
        "        return wordnet.NOUN\n",
        "    elif nltk_tag.startswith('R'):\n",
        "        return wordnet.ADV\n",
        "    else:          \n",
        "        return None\n",
        "        \n",
        "def clean_text_nostop(query: str):\n",
        "    query = re.sub(r'[^\\w\\s]+','', query)\n",
        "    query = query.lower()\n",
        "    query = lemmatize_sentence(query)\n",
        "    return query\n",
        "\n",
        "def clean_string(query: str):\n",
        "    query = re.sub(r'[^\\w\\s]+','', query)\n",
        "    query = query.lower()\n",
        "    query = remove_stopwords(query)\n",
        "    query = lemmatize_sentence(query)\n",
        "    return query\n",
        "\n",
        "### Remove duplicate words form corpus\n",
        "#http://www.martinbroadhurst.com/removing-duplicates-from-a-list-while-preserving-order-in-python.html\n",
        "def unique(text: str):\n",
        "    tokens = nltk.word_tokenize(text)\n",
        "    seen = set()\n",
        "    a = [x for x in tokens if not (x in seen or seen.add(x))]\n",
        "    return \" \".join(a)"
      ],
      "execution_count": 83,
      "outputs": []
    },
    {
      "cell_type": "code",
      "metadata": {
        "id": "ae4vEN_fWQYn"
      },
      "source": [
        "### Cleaning final_features but son't remove stopwords anymore,since it is a combination of extracted features\n",
        "final_corpus=clean_text(final_corpus,'final_features')\n",
        "### Removing duplicate words\n",
        "final_corpus['final_features'] = final_corpus['final_features'].apply(unique)"
      ],
      "execution_count": 84,
      "outputs": []
    },
    {
      "cell_type": "markdown",
      "metadata": {
        "id": "SxA35_e6WyV1"
      },
      "source": [
        "# Calculate the Cosine Similarity"
      ]
    },
    {
      "cell_type": "code",
      "metadata": {
        "id": "7Ru5_f4a37Oc"
      },
      "source": [
        "# https://medium.com/@armandj.olivares/building-nlp-content-based-recommender-systems-b104a709c042\n",
        "docs_list = []\n",
        "for line in final_corpus['final_features']:\n",
        "    doc = nlp(\"u'\"+line+\"'\")\n",
        "    docs_list.append(doc)\n",
        "final_corpus['docs'] = docs_list"
      ],
      "execution_count": 85,
      "outputs": []
    },
    {
      "cell_type": "code",
      "metadata": {
        "id": "1CeUIJ-q4Ofh"
      },
      "source": [
        "# calculate the similarity score between user's query and every product\n",
        "# https://medium.com/@armandj.olivares/building-nlp-content-based-recommender-systems-b104a709c042\n",
        "def calculate_sim(df, doc_column, score_column, query):\n",
        "    query = clean_string(query)\n",
        "    doc2 = nlp(\"u'\"+query+\"'\")\n",
        "    scores = []\n",
        "    for doc1 in df[doc_column]:\n",
        "      score = doc1.similarity(doc2)\n",
        "      scores.append(score)\n",
        "    df[score_column] = scores\n",
        "    result_df = df.sort_values(by=score_column, ascending=False)\n",
        "    return result_df"
      ],
      "execution_count": 86,
      "outputs": []
    },
    {
      "cell_type": "markdown",
      "metadata": {
        "id": "1-UgNKpGAW17"
      },
      "source": [
        "# Search function\n",
        "Based on user input, find the top 10 most similar products from our product database. If one of the products also appear in the existing outfit combination, the function will output that outfit combination. If not, then we will make a new outfit combination from the list. The outputs can only be top, bottom, shoe, (accessory) or onepiece, shoe, (accessory)."
      ]
    },
    {
      "cell_type": "code",
      "metadata": {
        "id": "Q0NZ30EP-rJr"
      },
      "source": [
        "# search query: user input what they are looking for and this function will return an outfit combination\n",
        "# The idea of this search function is:\n",
        "# first, we will loop through the top 10 products sorted by score returned by the calculate_sim function\n",
        "### to see whether there is a outfit recommendation from the expert.\n",
        "# If not, we will look along the returning product list returned by the calculate_sim function.\n",
        "### Set the first product as the target product and search from the high score to low score,\n",
        "### return the first product for each category different from target category.\n",
        "### Stop when dictionary has three products\n",
        "# Note: we set conditions to avoid recommending \"top\" \"bottom\" with \"onepiece\" .\n",
        "\n",
        "def search(query: str):\n",
        "    '''\n",
        "    The user passed in his/her query, the function will return a dictionary of outfit.\n",
        "    For example:\n",
        "                search(\"slim jeans\") -->\n",
        "                {\n",
        "                \"top\":\n",
        "                \"bottom\":\n",
        "                \"shoe\":    \n",
        "                }\n",
        "    \n",
        "    '''\n",
        "    outfit_df = pd.read_csv('outfit_combinations USC.csv')\n",
        "    result_df = calculate_sim(final_corpus, 'docs', 'scores', query)\n",
        "    # top 10 products that are most similar to the query\n",
        "    top_10 = result_df[:10]\n",
        "    for j in range(len(top_10)):\n",
        "      output = {}\n",
        "      target_id = top_10['product_id'].iloc[j]\n",
        "      target_cat = top_10['product_category'].iloc[j]\n",
        "      match = (outfit_df['outfit_id']==target_id).sum()\n",
        "      output[target_cat] = top_10.name.iloc[j]+ \"(\" + top_10.product_id.iloc[j] + \")\"\n",
        "      # if one of the products is present in the existing outfit combination\n",
        "      if match > 0 :\n",
        "        match_df = outfit_df[outfit_df['outfit_id'] == target_id]\n",
        "        for i in range(len(match_df)):\n",
        "          cat = match_df.outfit_item_type.iloc[i]\n",
        "          if cat != target_cat:\n",
        "            if cat not in output.keys():\n",
        "              output[cat] = match_df.product_full_name.iloc[i] + \"(\" + match_df.product_id.iloc[i] + \")\"\n",
        "            else:\n",
        "              output = output\n",
        "          else:\n",
        "            continue\n",
        "        break\n",
        "      else:\n",
        "        continue\n",
        "    # if none of the products is in the existing outfit combination\n",
        "    check = len(output)\n",
        "    if check == 1:\n",
        "      output = {}\n",
        "      target_id = result_df['product_id'].iloc[0]\n",
        "      target_cat = result_df['product_category'].iloc[0]\n",
        "      output[target_cat] = result_df.name.iloc[0]+ \"(\" + result_df.product_id.iloc[0] + \")\"\n",
        "      match_df = result_df[result_df.product_category!=target_cat]\n",
        "      for m in range(len(match_df)):\n",
        "        if len(output)<3:\n",
        "          cat = match_df.product_category.iloc[m]\n",
        "          if 'top' in output.keys():\n",
        "            if cat != 'onepiece' and cat not in output.keys():\n",
        "              output[cat] = match_df.name.iloc[m] + \"(\" + match_df.product_id.iloc[m] + \")\"\n",
        "            else:\n",
        "              output = output\n",
        "          elif 'bottom' in output.keys():\n",
        "            if cat != 'onepiece' and cat not in output.keys():\n",
        "              output[cat] = match_df.name.iloc[m] + \"(\" + match_df.product_id.iloc[m] + \")\"\n",
        "            else:\n",
        "              output = output\n",
        "          elif 'onepiece' in output.keys():\n",
        "            if cat != 'top' and cat !='bottom' and cat not in output.keys():\n",
        "              output[cat] = match_df.name.iloc[m] + \"(\" + match_df.product_id.iloc[m] + \")\"\n",
        "            else:\n",
        "              output = output\n",
        "          else:\n",
        "            if cat not in output.keys():\n",
        "              output[cat] = match_df.name.iloc[m] + \"(\" + match_df.product_id.iloc[m] + \")\"\n",
        "            else:\n",
        "              output = output\n",
        "        else:\n",
        "          break\n",
        "    return output"
      ],
      "execution_count": 87,
      "outputs": []
    },
    {
      "cell_type": "code",
      "metadata": {
        "colab": {
          "base_uri": "https://localhost:8080/"
        },
        "id": "AYlKWf4siVwg",
        "outputId": "1e80747a-de0f-4137-b28e-57762ef1a5ac"
      },
      "source": [
        "query = 'slim fitting, straight leg pant with a center back zipper and slightly cropped leg'\n",
        "search(query)"
      ],
      "execution_count": 88,
      "outputs": [
        {
          "output_type": "execute_result",
          "data": {
            "text/plain": [
              "{'bottom': 'Barrie Pant(01EF2ETR5B9DZJNXW6HGS8SB77)',\n",
              " 'shoe': 'Jensen Trench - Saddle(01EYXXFTBD9GZ7D1TGTEF2QDNZ)',\n",
              " 'top': 'The Iona Funnelneck(01EC0GTF7D8RMKYET3JM48C1K5)'}"
            ]
          },
          "metadata": {
            "tags": []
          },
          "execution_count": 88
        }
      ]
    },
    {
      "cell_type": "code",
      "metadata": {
        "colab": {
          "base_uri": "https://localhost:8080/"
        },
        "id": "mR0a8OMf_t7w",
        "outputId": "b53f1dc1-bb30-4d9a-94a5-80a5d6deae40"
      },
      "source": [
        "query = 'slim jeans'\n",
        "search(query)"
      ],
      "execution_count": 89,
      "outputs": [
        {
          "output_type": "execute_result",
          "data": {
            "text/plain": [
              "{'bottom': 'kate jean(01ESVKXA1MVJKZPS9FS4GB07G2)',\n",
              " 'shoe': 'Thais(01EZ7WGGMXY72V4P5S05NFJ0BF)',\n",
              " 'top': 'Cabana Camp Shirt(01EATVH2QW4HSQNFG2MBXT71V6)'}"
            ]
          },
          "metadata": {
            "tags": []
          },
          "execution_count": 89
        }
      ]
    },
    {
      "cell_type": "code",
      "metadata": {
        "colab": {
          "base_uri": "https://localhost:8080/"
        },
        "id": "Wo8EF7qwDUqw",
        "outputId": "7c79942e-22ac-406a-c364-c6dcab437c3d"
      },
      "source": [
        "query = 'summer cotton dress floral print long red'\n",
        "search(query)"
      ],
      "execution_count": 90,
      "outputs": [
        {
          "output_type": "execute_result",
          "data": {
            "text/plain": [
              "{'accessory': 'Charlotte Scarf TEAL FLORAL(01EWXHR20BJ17FXN90JNAC2TES)',\n",
              " 'onepiece': 'honeymoon dress(01F0M5DZ2PP4GQTDSKNVN3H8YE)',\n",
              " 'shoe': 'OCA Low Stripe Burgundy Red Canvas Sneaker Women(01ET60951XE4HBG8RDBV800HPH)'}"
            ]
          },
          "metadata": {
            "tags": []
          },
          "execution_count": 90
        }
      ]
    },
    {
      "cell_type": "code",
      "metadata": {
        "id": "Mq2vc2O9ABKZ"
      },
      "source": [
        ""
      ],
      "execution_count": null,
      "outputs": []
    }
  ]
}